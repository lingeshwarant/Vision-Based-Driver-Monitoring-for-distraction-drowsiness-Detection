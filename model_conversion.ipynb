{
 "cells": [
  {
   "cell_type": "code",
   "execution_count": null,
   "id": "e2248729",
   "metadata": {},
   "outputs": [],
   "source": [
    "#organizing the labels and images in a structure for train and val for data.yml format"
   ]
  },
  {
   "cell_type": "code",
   "execution_count": null,
   "id": "999165e8",
   "metadata": {},
   "outputs": [],
   "source": [
    "#Train dataset using model yolov8n"
   ]
  },
  {
   "cell_type": "code",
   "execution_count": null,
   "id": "00acfe29",
   "metadata": {},
   "outputs": [],
   "source": [
    "#Images separte to 4 diff folder"
   ]
  },
  {
   "cell_type": "code",
   "execution_count": 1,
   "id": "63375719-6a48-496f-af82-ecda0775cb17",
   "metadata": {},
   "outputs": [
    {
     "name": "stdout",
     "output_type": "stream",
     "text": [
      "Ultralytics 8.3.146  Python-3.12.7 torch-2.7.0+cpu CPU (11th Gen Intel Core(TM) i7-11850H 2.50GHz)\n",
      "WARNING imgsz=[614] must be multiple of max stride 32, updating to [640]\n",
      "Model summary (fused): 72 layers, 3,006,038 parameters, 0 gradients, 8.1 GFLOPs\n",
      "\n",
      "\u001b[34m\u001b[1mPyTorch:\u001b[0m starting from 'runs\\train\\yolov8n_model\\weights\\best.pt' with input shape (1, 3, 640, 640) BCHW and output shape(s) (1, 300, 6) (6.0 MB)\n",
      "\u001b[31m\u001b[1mrequirements:\u001b[0m Ultralytics requirements ['onnx>=1.12.0,<1.18.0', 'onnxslim>=0.1.53'] not found, attempting AutoUpdate...\n",
      "WARNING \u001b[31m\u001b[1mrequirements:\u001b[0m  AutoUpdate skipped (offline)\n",
      "\n",
      "\u001b[34m\u001b[1mONNX:\u001b[0m starting export with onnx 1.18.0 opset 12...\n",
      "WARNING \u001b[34m\u001b[1mONNX:\u001b[0m simplifier failure: No module named 'onnxslim'\n",
      "\u001b[34m\u001b[1mONNX:\u001b[0m export success  0.9s, saved as 'runs\\train\\yolov8n_model\\weights\\best.onnx' (11.6 MB)\n",
      "\n",
      "Export complete (3.4s)\n",
      "Results saved to \u001b[1mC:\\Users\\ltg1cob\\project\\Stage3_train\\Seatbelt_training\\runs\\train\\yolov8n_model\\weights\u001b[0m\n",
      "Predict:         yolo predict task=detect model=runs\\train\\yolov8n_model\\weights\\best.onnx imgsz=640  \n",
      "Validate:        yolo val task=detect model=runs\\train\\yolov8n_model\\weights\\best.onnx imgsz=640 data=data.yaml  \n",
      "Visualize:       https://netron.app\n"
     ]
    },
    {
     "data": {
      "text/plain": [
       "'runs\\\\train\\\\yolov8n_model\\\\weights\\\\best.onnx'"
      ]
     },
     "execution_count": 1,
     "metadata": {},
     "output_type": "execute_result"
    }
   ],
   "source": [
    "from ultralytics import YOLO\n",
    "\n",
    "# Load the YOLOv8 model\n",
    "model = YOLO(\"runs/train/yolov8n_model/weights/best.pt\")  # Replace with your actual .pt file path\n",
    "# Export to ONNX\n",
    "#model.export(format=\"onnx\")\n",
    "model.export(format=\"onnx\", dynamic=True, opset=12, simplify=True, imgsz=614, nms=True)\n"
   ]
  },
  {
   "cell_type": "code",
   "execution_count": 3,
   "id": "910f17ac-e4d7-4d3d-ac91-eada128c0582",
   "metadata": {},
   "outputs": [
    {
     "name": "stdout",
     "output_type": "stream",
     "text": [
      "Ultralytics 8.3.146  Python-3.12.7 torch-2.7.0+cpu CPU (11th Gen Intel Core(TM) i7-11850H 2.50GHz)\n",
      "WARNING half=True only compatible with GPU export, i.e. use device=0\n",
      "Model summary (fused): 72 layers, 3,006,038 parameters, 0 gradients, 8.1 GFLOPs\n",
      "\n",
      "\u001b[34m\u001b[1mPyTorch:\u001b[0m starting from 'runs\\train\\yolov8n_model\\weights\\best.pt' with input shape (1, 3, 640, 640) BCHW and output shape(s) (1, 300, 6) (6.0 MB)\n",
      "\u001b[31m\u001b[1mrequirements:\u001b[0m Ultralytics requirements ['onnx>=1.12.0,<1.18.0', 'onnxslim>=0.1.53'] not found, attempting AutoUpdate...\n",
      "WARNING \u001b[31m\u001b[1mrequirements:\u001b[0m  AutoUpdate skipped (offline)\n",
      "\n",
      "\u001b[34m\u001b[1mONNX:\u001b[0m starting export with onnx 1.18.0 opset 12...\n",
      "WARNING \u001b[34m\u001b[1mONNX:\u001b[0m simplifier failure: No module named 'onnxslim'\n",
      "\u001b[34m\u001b[1mONNX:\u001b[0m export success  0.6s, saved as 'runs\\train\\yolov8n_model\\weights\\best.onnx' (11.6 MB)\n",
      "\n",
      "Export complete (0.8s)\n",
      "Results saved to \u001b[1mC:\\Users\\ltg1cob\\project\\Stage3_train\\Seatbelt_training\\runs\\train\\yolov8n_model\\weights\u001b[0m\n",
      "Predict:         yolo predict task=detect model=runs\\train\\yolov8n_model\\weights\\best.onnx imgsz=640  \n",
      "Validate:        yolo val task=detect model=runs\\train\\yolov8n_model\\weights\\best.onnx imgsz=640 data=data.yaml  \n",
      "Visualize:       https://netron.app\n"
     ]
    },
    {
     "data": {
      "text/plain": [
       "'runs\\\\train\\\\yolov8n_model\\\\weights\\\\best.onnx'"
      ]
     },
     "execution_count": 3,
     "metadata": {},
     "output_type": "execute_result"
    }
   ],
   "source": [
    "from ultralytics import YOLO\n",
    "\n",
    "# Load trained YOLOv8 model\n",
    "model = YOLO(\"runs/train/yolov8n_model/weights/best.pt\")\n",
    "\n",
    "# Export to ONNX with optimizations\n",
    "model.export(format=\"onnx\", half=True, simplify=True, opset=12, dynamic=True, imgsz=640, nms=True)\n",
    "\n"
   ]
  },
  {
   "cell_type": "code",
   "execution_count": null,
   "id": "5b593379-d50e-45d7-b810-96c54996d392",
   "metadata": {},
   "outputs": [],
   "source": []
  }
 ],
 "metadata": {
  "kernelspec": {
   "display_name": "Python 3 (ipykernel)",
   "language": "python",
   "name": "python3"
  },
  "language_info": {
   "codemirror_mode": {
    "name": "ipython",
    "version": 3
   },
   "file_extension": ".py",
   "mimetype": "text/x-python",
   "name": "python",
   "nbconvert_exporter": "python",
   "pygments_lexer": "ipython3",
   "version": "3.12.7"
  }
 },
 "nbformat": 4,
 "nbformat_minor": 5
}
